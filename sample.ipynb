{
 "cells": [
  {
   "cell_type": "code",
   "execution_count": 2,
   "metadata": {},
   "outputs": [
    {
     "name": "stdout",
     "output_type": "stream",
     "text": [
      "68\n"
     ]
    }
   ],
   "source": [
    "# addition of 2 numbers\n",
    "\n",
    "n1=int(input(\"Enter the 1st number\"))\n",
    "n2=int(input(\"Enter the 2nd number\"))\n",
    "n3=n1+n2\n",
    "print(n3)"
   ]
  },
  {
   "cell_type": "code",
   "execution_count": 12,
   "metadata": {},
   "outputs": [
    {
     "name": "stdout",
     "output_type": "stream",
     "text": [
      "-139\n"
     ]
    }
   ],
   "source": [
    "# sub of 3 numbers\n",
    "\n",
    "n1=30\n",
    "n2=89\n",
    "n3=80\n",
    "n4=n1-n2-n3\n",
    "print(n4)"
   ]
  },
  {
   "cell_type": "code",
   "execution_count": 13,
   "metadata": {},
   "outputs": [
    {
     "name": "stdout",
     "output_type": "stream",
     "text": [
      "89 is odd\n"
     ]
    }
   ],
   "source": [
    "# write a program to print the given number is odd or even.\n",
    "\n",
    "num=int(input(\"Enter a number:\"))\n",
    "if (num % 2) ==0:\n",
    "    print(\"{0} is Even\".format(num))\n",
    "else:\n",
    "    print(\"{0} is odd\".format(num))"
   ]
  },
  {
   "cell_type": "code",
   "execution_count": 14,
   "metadata": {},
   "outputs": [
    {
     "name": "stdout",
     "output_type": "stream",
     "text": [
      "positive number\n"
     ]
    }
   ],
   "source": [
    "#write a program to find the given number positive or negative\n",
    "\n",
    "\n",
    "num=int(input(\"Enter the given number:\"))\n",
    "\n",
    "#input=90\n",
    "\n",
    "if num > 0:\n",
    "    print(\"positive number\")\n",
    "elif num==90:\n",
    "    print(\"Enter the 90\") \n",
    "else:\n",
    "    print(\"negative number\")\n",
    "\n",
    "#output:postive or negative           "
   ]
  },
  {
   "cell_type": "code",
   "execution_count": 15,
   "metadata": {},
   "outputs": [
    {
     "name": "stdout",
     "output_type": "stream",
     "text": [
      "30\n"
     ]
    }
   ],
   "source": [
    "#Divisiblen of numbers\n",
    "\n",
    "n1=int(input(\"Enter the 1st value\"))\n",
    "n2=int(input(\"Enter the second value\"))\n",
    "n3=n1%n2\n",
    "print(n3)"
   ]
  },
  {
   "cell_type": "code",
   "execution_count": 16,
   "metadata": {},
   "outputs": [
    {
     "name": "stdout",
     "output_type": "stream",
     "text": [
      "0.6666666666666666\n"
     ]
    }
   ],
   "source": [
    "#True division\n",
    "\n",
    "n1=20\n",
    "n2=30\n",
    "n3=n1/n2\n",
    "print(n3)"
   ]
  },
  {
   "cell_type": "code",
   "execution_count": 17,
   "metadata": {},
   "outputs": [
    {
     "name": "stdout",
     "output_type": "stream",
     "text": [
      "0\n"
     ]
    }
   ],
   "source": [
    "#Floor division (//)\n",
    "\n",
    "n1=int(input(\"Enter the 1st value\"))\n",
    "n2=int(input(\"Enter the 2nd value\"))\n",
    "n3=n1//n2\n",
    "print(n3)"
   ]
  },
  {
   "cell_type": "code",
   "execution_count": 18,
   "metadata": {},
   "outputs": [],
   "source": [
    "#was to print \"Hello world\" by using python\n",
    "\n",
    "str=input(\"Enter the val\")\n",
    "print(str)"
   ]
  },
  {
   "cell_type": "code",
   "execution_count": 9,
   "metadata": {},
   "outputs": [
    {
     "name": "stdout",
     "output_type": "stream",
     "text": [
      "GG\n"
     ]
    }
   ],
   "source": [
    "ch='GG'\n",
    "len(ch)==1 and 'A'<=ch<='Z'\n",
    "print(ch)"
   ]
  },
  {
   "cell_type": "code",
   "execution_count": 7,
   "metadata": {},
   "outputs": [
    {
     "name": "stdout",
     "output_type": "stream",
     "text": [
      "HELLOWORLD\n"
     ]
    }
   ],
   "source": [
    "# To print \"Hello World\"\n",
    "\n",
    "str=\"Hello world\"\n",
    "print(input(\"Enter the str\"))"
   ]
  },
  {
   "cell_type": "code",
   "execution_count": null,
   "metadata": {},
   "outputs": [],
   "source": [
    "# initiliaze var and val as 50?\n",
    "\n",
    "a=50\n",
    "a=10.09\n",
    "a=10+5j\n",
    "a=b'1010'\n",
    "a=True\n",
    "a=None\n",
    "str=\"Hello world\"\n",
    "a=[10,20,30,40,50]\n",
    "a=(10,20,30,40,50)\n",
    "a=10,20,30,40,50\n",
    "a={10,40,89,90}\n",
    "a={10:30,30:50}"
   ]
  },
  {
   "cell_type": "code",
   "execution_count": 16,
   "metadata": {},
   "outputs": [
    {
     "name": "stdout",
     "output_type": "stream",
     "text": [
      "150\n",
      "120\n",
      "250\n"
     ]
    }
   ],
   "source": [
    "#initiliaze multivariable values are 150,120,250\n",
    "\n",
    "a,b,c=150,120,250\n",
    "\n",
    "\n",
    "a=150\n",
    "b=120\n",
    "c=250\n",
    "print(input(\"Enter a value\"))\n",
    "print(input(\"Enter b value\"))\n",
    "print(input(\"Enter c value\"))"
   ]
  },
  {
   "cell_type": "code",
   "execution_count": 19,
   "metadata": {},
   "outputs": [
    {
     "name": "stdout",
     "output_type": "stream",
     "text": [
      "<class 'set'>\n"
     ]
    }
   ],
   "source": [
    "#Type of the data in given value\n",
    "\n",
    "a={10,20}\n",
    "print(type(a))"
   ]
  },
  {
   "cell_type": "code",
   "execution_count": 27,
   "metadata": {},
   "outputs": [
    {
     "name": "stdout",
     "output_type": "stream",
     "text": [
      "1929425725776\n",
      "1929425688464\n",
      "1929425723472\n"
     ]
    }
   ],
   "source": [
    "#print the address of the memory block in given value\n",
    "\n",
    "a=id(a)\n",
    "b=id(b)\n",
    "c=id(c)\n",
    "print(a)\n",
    "print(b)\n",
    "print(c)\n",
    "\n",
    "\n"
   ]
  },
  {
   "cell_type": "code",
   "execution_count": 38,
   "metadata": {},
   "outputs": [
    {
     "name": "stdout",
     "output_type": "stream",
     "text": [
      "vamsi\n",
      "22\n",
      "royalvamsi115@gmail.com\n",
      "9347074123\n",
      "abc123\n"
     ]
    }
   ],
   "source": [
    "#print your details,first store your details,extract the value and display it\n",
    "\n",
    "name:\"vamsi\"\n",
    "age:22\n",
    "phoneno:9347074123\n",
    "email:\"royalvamsi115@gmail.com\"\n",
    "height:5.11\n",
    "pancard:True\n",
    "print(input(\"Enter the name\"))\n",
    "print(input(\"Enter the age\"))\n",
    "print(input(\"Enter the email\"))\n",
    "print(input(\"Enter the phoneno\"))\n",
    "print(input(\"Enter the pancard\"))\n"
   ]
  },
  {
   "cell_type": "code",
   "execution_count": 40,
   "metadata": {},
   "outputs": [
    {
     "name": "stdout",
     "output_type": "stream",
     "text": [
      "bye\n",
      "haii\n"
     ]
    }
   ],
   "source": [
    "#swap the 2 values with a temp variable\n",
    "\n",
    "x=\"haii\"\n",
    "y=\"bye\"\n",
    "Temp=x\n",
    "x=y\n",
    "y=Temp\n",
    "print(x)\n",
    "print(y)"
   ]
  },
  {
   "cell_type": "code",
   "execution_count": 42,
   "metadata": {},
   "outputs": [
    {
     "name": "stdout",
     "output_type": "stream",
     "text": [
      "{10, 60, 30}\n",
      "[10, 50, 30]\n"
     ]
    }
   ],
   "source": [
    "#swap the 2 value without a temp var\n",
    "\n",
    "m=[10,50,30]\n",
    "n={10,60,30}\n",
    "m,n=n,m\n",
    "print(m)\n",
    "print(n)"
   ]
  },
  {
   "cell_type": "code",
   "execution_count": 66,
   "metadata": {},
   "outputs": [
    {
     "name": "stdout",
     "output_type": "stream",
     "text": [
      "pyspiders\n",
      "qyspiders\n",
      "[10, 20, 30]\n",
      "[10, 20, 30, 50, 60, 70]\n"
     ]
    }
   ],
   "source": [
    "#initiliaze valu and print the val,\n",
    "#after print the value,\n",
    "#then reinitiliazethe new value to the existing var and display the value.\n",
    "\n",
    "#fetch\n",
    "a={'b':\"pyspiders\"}\n",
    "print(a['b'])\n",
    "#modification\n",
    "a={'b':\"qyspiders\"}\n",
    "print(a['b'])\n",
    "#reintilization\n",
    "b=[10,20,30]\n",
    "print(b)\n",
    "#concatination\n",
    "b+=[50,60,70]\n",
    "print(b)\n",
    "#deletion\n",
    "del a['b']\n",
    "\n"
   ]
  }
 ],
 "metadata": {
  "kernelspec": {
   "display_name": "Python 3",
   "language": "python",
   "name": "python3"
  },
  "language_info": {
   "codemirror_mode": {
    "name": "ipython",
    "version": 3
   },
   "file_extension": ".py",
   "mimetype": "text/x-python",
   "name": "python",
   "nbconvert_exporter": "python",
   "pygments_lexer": "ipython3",
   "version": "3.11.4"
  },
  "orig_nbformat": 4
 },
 "nbformat": 4,
 "nbformat_minor": 2
}
