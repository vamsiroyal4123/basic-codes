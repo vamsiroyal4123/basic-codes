{
 "cells": [
  {
   "cell_type": "code",
   "execution_count": 1,
   "metadata": {},
   "outputs": [
    {
     "ename": "ValueError",
     "evalue": "invalid literal for int() with base 10: ''",
     "output_type": "error",
     "traceback": [
      "\u001b[1;31m---------------------------------------------------------------------------\u001b[0m",
      "\u001b[1;31mValueError\u001b[0m                                Traceback (most recent call last)",
      "Cell \u001b[1;32mIn[1], line 3\u001b[0m\n\u001b[0;32m      1\u001b[0m \u001b[39m#1 addition of 2 numbers\u001b[39;00m\n\u001b[1;32m----> 3\u001b[0m n1\u001b[39m=\u001b[39m\u001b[39mint\u001b[39;49m(\u001b[39minput\u001b[39;49m(\u001b[39m\"\u001b[39;49m\u001b[39mEnter the 1st number\u001b[39;49m\u001b[39m\"\u001b[39;49m))\n\u001b[0;32m      4\u001b[0m n2\u001b[39m=\u001b[39m\u001b[39mint\u001b[39m(\u001b[39minput\u001b[39m(\u001b[39m\"\u001b[39m\u001b[39mEnter the 2nd number\u001b[39m\u001b[39m\"\u001b[39m))\n\u001b[0;32m      5\u001b[0m n3\u001b[39m=\u001b[39mn1\u001b[39m+\u001b[39mn2\n",
      "\u001b[1;31mValueError\u001b[0m: invalid literal for int() with base 10: ''"
     ]
    }
   ],
   "source": [
    "#1 addition of 2 numbers\n",
    "\n",
    "n1=int(input(\"Enter the 1st number\"))\n",
    "n2=int(input(\"Enter the 2nd number\"))\n",
    "n3=n1+n2\n",
    "print(n3)"
   ]
  },
  {
   "cell_type": "code",
   "execution_count": null,
   "metadata": {},
   "outputs": [
    {
     "name": "stdout",
     "output_type": "stream",
     "text": [
      "-139\n"
     ]
    }
   ],
   "source": [
    "#2 sub of 3 numbers\n",
    "\n",
    "n1=30\n",
    "n2=89\n",
    "n3=80\n",
    "n4=n1-n2-n3\n",
    "print(n4)"
   ]
  },
  {
   "cell_type": "code",
   "execution_count": null,
   "metadata": {},
   "outputs": [
    {
     "name": "stdout",
     "output_type": "stream",
     "text": [
      "89 is odd\n"
     ]
    }
   ],
   "source": [
    "3# write a program to print the given number is odd or even.\n",
    "\n",
    "num=int(input(\"Enter a number:\"))\n",
    "if (num % 2) ==0:\n",
    "    print(\"{0} is Even\".format(num))\n",
    "else:\n",
    "    print(\"{0} is odd\".format(num))"
   ]
  },
  {
   "cell_type": "code",
   "execution_count": null,
   "metadata": {},
   "outputs": [
    {
     "name": "stdout",
     "output_type": "stream",
     "text": [
      "positive number\n"
     ]
    }
   ],
   "source": [
    "#4write a program to find the given number positive or negative\n",
    "\n",
    "\n",
    "num=int(input(\"Enter the given number:\"))\n",
    "\n",
    "#input=90\n",
    "\n",
    "if num > 0:\n",
    "    print(\"positive number\")\n",
    "elif num==90:\n",
    "    print(\"Enter the 90\") \n",
    "else:\n",
    "    print(\"negative number\")\n",
    "\n",
    "#output:postive or negative           "
   ]
  },
  {
   "cell_type": "code",
   "execution_count": null,
   "metadata": {},
   "outputs": [
    {
     "name": "stdout",
     "output_type": "stream",
     "text": [
      "30\n"
     ]
    }
   ],
   "source": [
    "#5Divisiblen of numbers\n",
    "\n",
    "n1=int(input(\"Enter the 1st value\"))\n",
    "n2=int(input(\"Enter the second value\"))\n",
    "n3=n1%n2\n",
    "print(n3)"
   ]
  },
  {
   "cell_type": "code",
   "execution_count": null,
   "metadata": {},
   "outputs": [
    {
     "name": "stdout",
     "output_type": "stream",
     "text": [
      "0.6666666666666666\n"
     ]
    }
   ],
   "source": [
    "6#True division\n",
    "\n",
    "n1=20\n",
    "n2=30\n",
    "n3=n1/n2\n",
    "print(n3)"
   ]
  },
  {
   "cell_type": "code",
   "execution_count": null,
   "metadata": {},
   "outputs": [
    {
     "name": "stdout",
     "output_type": "stream",
     "text": [
      "0\n"
     ]
    }
   ],
   "source": [
    "7#Floor division (//)\n",
    "\n",
    "n1=int(input(\"Enter the 1st value\"))\n",
    "n2=int(input(\"Enter the 2nd value\"))\n",
    "n3=n1//n2\n",
    "print(n3)"
   ]
  },
  {
   "cell_type": "code",
   "execution_count": null,
   "metadata": {},
   "outputs": [],
   "source": [
    "#8was to print \"Hello world\" by using python\n",
    "\n",
    "str=input(\"Enter the val\")\n",
    "print(str)"
   ]
  },
  {
   "cell_type": "code",
   "execution_count": null,
   "metadata": {},
   "outputs": [
    {
     "name": "stdout",
     "output_type": "stream",
     "text": [
      "GG\n"
     ]
    }
   ],
   "source": [
    "ch='GG' #9\n",
    "len(ch)==1 and 'A'<=ch<='Z'\n",
    "print(ch)"
   ]
  },
  {
   "cell_type": "code",
   "execution_count": null,
   "metadata": {},
   "outputs": [
    {
     "name": "stdout",
     "output_type": "stream",
     "text": [
      "HELLOWORLD\n"
     ]
    }
   ],
   "source": [
    "# 10 To print \"Hello World\"\n",
    "\n",
    "str=\"Hello world\"\n",
    "print(input(\"Enter the str\"))"
   ]
  },
  {
   "cell_type": "code",
   "execution_count": null,
   "metadata": {},
   "outputs": [],
   "source": [
    "# 11 initiliaze var and val as 50?\n",
    "\n",
    "a=50\n",
    "a=10.09\n",
    "a=10+5j\n",
    "a=b'1010'\n",
    "a=True\n",
    "a=None\n",
    "str=\"Hello world\"\n",
    "a=[10,20,30,40,50]\n",
    "a=(10,20,30,40,50)\n",
    "a=10,20,30,40,50\n",
    "a={10,40,89,90}\n",
    "a={10:30,30:50}"
   ]
  },
  {
   "cell_type": "code",
   "execution_count": null,
   "metadata": {},
   "outputs": [
    {
     "name": "stdout",
     "output_type": "stream",
     "text": [
      "150\n",
      "120\n",
      "250\n"
     ]
    }
   ],
   "source": [
    "#12 initiliaze multivariable values are 150,120,250\n",
    "\n",
    "a,b,c=150,120,250\n",
    "\n",
    "\n",
    "a=150\n",
    "b=120\n",
    "c=250\n",
    "print(input(\"Enter a value\"))\n",
    "print(input(\"Enter b value\"))\n",
    "print(input(\"Enter c value\"))"
   ]
  },
  {
   "cell_type": "code",
   "execution_count": null,
   "metadata": {},
   "outputs": [
    {
     "name": "stdout",
     "output_type": "stream",
     "text": [
      "<class 'set'>\n"
     ]
    }
   ],
   "source": [
    "#13Type of the data in given value\n",
    "\n",
    "a={10,20}\n",
    "print(type(a))"
   ]
  },
  {
   "cell_type": "code",
   "execution_count": null,
   "metadata": {},
   "outputs": [
    {
     "name": "stdout",
     "output_type": "stream",
     "text": [
      "1929425725776\n",
      "1929425688464\n",
      "1929425723472\n"
     ]
    }
   ],
   "source": [
    "#14print the address of the memory block in given value\n",
    "\n",
    "a=id(a)\n",
    "b=id(b)\n",
    "c=id(c)\n",
    "print(a)\n",
    "print(b)\n",
    "print(c)\n",
    "\n",
    "\n"
   ]
  },
  {
   "cell_type": "code",
   "execution_count": null,
   "metadata": {},
   "outputs": [
    {
     "name": "stdout",
     "output_type": "stream",
     "text": [
      "vamsi\n",
      "22\n",
      "royalvamsi115@gmail.com\n",
      "9347074123\n",
      "abc123\n"
     ]
    }
   ],
   "source": [
    "#15 print your details,first store your details,extract the value and display it\n",
    "\n",
    "name:\"vamsi\"\n",
    "age:22\n",
    "phoneno:9347074123\n",
    "email:\"royalvamsi115@gmail.com\"\n",
    "height:5.11\n",
    "pancard:True\n",
    "print(input(\"Enter the name\"))\n",
    "print(input(\"Enter the age\"))\n",
    "print(input(\"Enter the email\"))\n",
    "print(input(\"Enter the phoneno\"))\n",
    "print(input(\"Enter the pancard\"))\n"
   ]
  },
  {
   "cell_type": "code",
   "execution_count": null,
   "metadata": {},
   "outputs": [
    {
     "name": "stdout",
     "output_type": "stream",
     "text": [
      "bye\n",
      "haii\n"
     ]
    }
   ],
   "source": [
    "#16swap the 2 values with a temp variable\n",
    "\n",
    "x=\"haii\"\n",
    "y=\"bye\"\n",
    "Temp=x\n",
    "x=y\n",
    "y=Temp\n",
    "print(x)\n",
    "print(y)"
   ]
  },
  {
   "cell_type": "code",
   "execution_count": null,
   "metadata": {},
   "outputs": [
    {
     "name": "stdout",
     "output_type": "stream",
     "text": [
      "{10, 60, 30}\n",
      "[10, 50, 30]\n"
     ]
    }
   ],
   "source": [
    "#17 swap the 2 value without a temp var\n",
    "\n",
    "m=[10,50,30]\n",
    "n={10,60,30}\n",
    "m,n=n,m\n",
    "print(m)\n",
    "print(n)"
   ]
  },
  {
   "cell_type": "code",
   "execution_count": null,
   "metadata": {},
   "outputs": [
    {
     "name": "stdout",
     "output_type": "stream",
     "text": [
      "pyspiders\n",
      "qyspiders\n",
      "[10, 20, 30]\n",
      "[10, 20, 30, 50, 60, 70]\n"
     ]
    }
   ],
   "source": [
    "#18 initiliaze valu and print the val,\n",
    "#after print the value,\n",
    "#then reinitiliazethe new value to the existing var and display the value.\n",
    "\n",
    "#fetch\n",
    "a={'b':\"pyspiders\"}\n",
    "print(a['b'])\n",
    "#modification\n",
    "a={'b':\"qyspiders\"}\n",
    "print(a['b'])\n",
    "#reintilization\n",
    "b=[10,20,30]\n",
    "print(b)\n",
    "#concatination\n",
    "b+=[50,60,70]\n",
    "print(b)\n",
    "#deletion\n",
    "del a['b']\n",
    "\n"
   ]
  },
  {
   "cell_type": "code",
   "execution_count": null,
   "metadata": {},
   "outputs": [
    {
     "data": {
      "text/plain": [
       "['1', '0']"
      ]
     },
     "execution_count": 2,
     "metadata": {},
     "output_type": "execute_result"
    }
   ],
   "source": [
    "# 19 to convert singlevalue to multivalue\n",
    "\n",
    "a=10\n",
    "str(a)\n",
    "list(str(a))"
   ]
  },
  {
   "cell_type": "code",
   "execution_count": null,
   "metadata": {},
   "outputs": [
    {
     "name": "stdout",
     "output_type": "stream",
     "text": [
      "helloworld\n",
      "[10, 20, 30, 80, 90]\n",
      "(20, 30, 40, 100, 200)\n"
     ]
    }
   ],
   "source": [
    "# 20was to concat the two multivalue datatypes\n",
    "\n",
    "#string\n",
    "x=\"hello\"\n",
    "x+=\"world\"\n",
    "print(x)\n",
    "\n",
    "#list\n",
    "\n",
    "y=[10,20,30]\n",
    "y+=[80,90]\n",
    "print(y)\n",
    "\n",
    "#tuple\n",
    "z=(20,30,40)\n",
    "z+=(100,200)\n",
    "print(z)\n",
    "\n",
    "#set and dict are cannot concat\n",
    "\n",
    "\n"
   ]
  },
  {
   "cell_type": "code",
   "execution_count": null,
   "metadata": {},
   "outputs": [
    {
     "name": "stdout",
     "output_type": "stream",
     "text": [
      "2\n"
     ]
    },
    {
     "data": {
      "text/plain": [
       "3"
      ]
     },
     "execution_count": 13,
     "metadata": {},
     "output_type": "execute_result"
    }
   ],
   "source": [
    "#21 wae to check the length of the coll\n",
    "\n",
    "a=[10,20]\n",
    "len(a)\n",
    "print(len(a))\n",
    "\n",
    "b=(10,20,30)\n",
    "len(b)"
   ]
  },
  {
   "cell_type": "code",
   "execution_count": null,
   "metadata": {},
   "outputs": [
    {
     "data": {
      "text/plain": [
       "70"
      ]
     },
     "execution_count": 14,
     "metadata": {},
     "output_type": "execute_result"
    }
   ],
   "source": [
    "# 22 wae to check find out the middile value of given coll\n",
    "\n",
    "d=[10,20,70,40,80]\n",
    "d[len(d)//2]"
   ]
  },
  {
   "cell_type": "code",
   "execution_count": null,
   "metadata": {},
   "outputs": [
    {
     "name": "stdout",
     "output_type": "stream",
     "text": [
      "haiihow r u\n"
     ]
    }
   ],
   "source": [
    "#23 was to concat the new string into the starting of given string\n",
    "\n",
    "a=\"how r u\"\n",
    "b=\"haii\"\n",
    "print(b+a)\n",
    "\n",
    "a=b+a"
   ]
  },
  {
   "cell_type": "code",
   "execution_count": null,
   "metadata": {},
   "outputs": [
    {
     "name": "stdout",
     "output_type": "stream",
     "text": [
      "vamsivarun\n"
     ]
    }
   ],
   "source": [
    "#24 was to conact the new string into the ending of the given string\n",
    "\n",
    "a=\"vamsi\"\n",
    "\n",
    "a+=\"varun\"\n",
    "print(a)"
   ]
  },
  {
   "cell_type": "code",
   "execution_count": null,
   "metadata": {},
   "outputs": [
    {
     "name": "stdout",
     "output_type": "stream",
     "text": [
      "hellohowruaii\n"
     ]
    }
   ],
   "source": [
    "#25 was to concat the new string into the middile\n",
    "\n",
    "a=\"hello haii\"\n",
    "a=a[0:5]+\"howru\"+a[7::]\n",
    "print(a)"
   ]
  },
  {
   "cell_type": "code",
   "execution_count": null,
   "metadata": {},
   "outputs": [
    {
     "data": {
      "text/plain": [
       "'pysplders'"
      ]
     },
     "execution_count": 32,
     "metadata": {},
     "output_type": "execute_result"
    }
   ],
   "source": [
    "# 26was to modify the new character into the middile of the given string\n",
    "\n",
    "s=\"pyspiders\"\n",
    "s[len(s)//2]\n",
    "\n",
    "s[0:len(s)//2]+'l'+s[(len(s)//2)+1:]\n"
   ]
  },
  {
   "cell_type": "code",
   "execution_count": null,
   "metadata": {},
   "outputs": [
    {
     "data": {
      "text/plain": [
       "'pysPIDers'"
      ]
     },
     "execution_count": 33,
     "metadata": {},
     "output_type": "execute_result"
    }
   ],
   "source": [
    "#27 was to modify the sequence of character in given string\n",
    "\n",
    "s=\"pyspiders\"\n",
    "s[0:3]+\"PID\"+s[6:]"
   ]
  },
  {
   "cell_type": "code",
   "execution_count": null,
   "metadata": {},
   "outputs": [
    {
     "data": {
      "text/plain": [
       "'pyspiDers'"
      ]
     },
     "execution_count": 39,
     "metadata": {},
     "output_type": "execute_result"
    }
   ],
   "source": [
    "#28 was to replace the old character into a new character of the given string\n",
    "\n",
    "s=\"pyspiders\"\n",
    "s[:-4]+'D'+s[-3:]"
   ]
  },
  {
   "cell_type": "code",
   "execution_count": null,
   "metadata": {},
   "outputs": [
    {
     "data": {
      "text/plain": [
       "'pypiders'"
      ]
     },
     "execution_count": 42,
     "metadata": {},
     "output_type": "execute_result"
    }
   ],
   "source": [
    "#29 was to delete the specific character in the given string\n",
    "\n",
    "s=\"pyspiders\"\n",
    "s[:2]+s[3:]\n"
   ]
  },
  {
   "cell_type": "code",
   "execution_count": null,
   "metadata": {},
   "outputs": [
    {
     "data": {
      "text/plain": [
       "'pysers'"
      ]
     },
     "execution_count": 43,
     "metadata": {},
     "output_type": "execute_result"
    }
   ],
   "source": [
    "#30 was to delete the sequence character in the given string\n",
    "\n",
    "s=\"pyspiders\"\n",
    "s[:3]+s[6:]"
   ]
  },
  {
   "cell_type": "code",
   "execution_count": null,
   "metadata": {},
   "outputs": [
    {
     "data": {
      "text/plain": [
       "'haiihow how r u!'"
      ]
     },
     "execution_count": 48,
     "metadata": {},
     "output_type": "execute_result"
    }
   ],
   "source": [
    "#31 was to create the new string into the specific posistion of the given string\n",
    "\n",
    "s=\"haii how r u!\"\n",
    "s[0:4]+\"how\"+s[4:]\n",
    "\n"
   ]
  },
  {
   "cell_type": "code",
   "execution_count": null,
   "metadata": {},
   "outputs": [
    {
     "name": "stdout",
     "output_type": "stream",
     "text": [
      "['vamsi', 'varun', 10, 20, 30, 40, 50]\n"
     ]
    }
   ],
   "source": [
    "#32 was to concate the new value into the starting of the given list\n",
    "\n",
    "l1=[10,20,30,40,50]\n",
    "l2=[\"vamsi\",\"varun\"]\n",
    "l3=l2+l1\n",
    "print(l3)"
   ]
  },
  {
   "cell_type": "code",
   "execution_count": null,
   "metadata": {},
   "outputs": [
    {
     "name": "stdout",
     "output_type": "stream",
     "text": [
      "[10, 20, 30, 40, 50, 'Vamsi', 'varun']\n"
     ]
    }
   ],
   "source": [
    "#33 was to concate the new value into the ending of the given list\n",
    "\n",
    "l1=[10,20,30,40,50]\n",
    "l2=[\"Vamsi\",\"varun\"]\n",
    "l3=l1+l2\n",
    "print(l3)\n",
    "\n"
   ]
  },
  {
   "cell_type": "code",
   "execution_count": null,
   "metadata": {},
   "outputs": [
    {
     "name": "stdout",
     "output_type": "stream",
     "text": [
      "[10, 20, 10, 20, 30, True, 'hai']\n"
     ]
    }
   ],
   "source": [
    "#34 was to concate the new value into the middile of the given list\n",
    "\n",
    "l=[10,20,30,True,\"hai\"]\n",
    "l[len(l)//2:len(l)//2]=[10,20]\n",
    "print(l)"
   ]
  },
  {
   "cell_type": "code",
   "execution_count": null,
   "metadata": {},
   "outputs": [
    {
     "name": "stdout",
     "output_type": "stream",
     "text": [
      "[90, 100, 10.1, True, 'haii']\n"
     ]
    }
   ],
   "source": [
    "#35 was to concate the new value into the specific position of the given list\n",
    "\n",
    "l=[10,10.10,True,'haii']\n",
    "l[0:1]=[90,100]\n",
    "print(l)"
   ]
  },
  {
   "cell_type": "code",
   "execution_count": null,
   "metadata": {},
   "outputs": [
    {
     "name": "stdout",
     "output_type": "stream",
     "text": [
      "[10, (10+5j), 30, 40, 50, 60]\n"
     ]
    }
   ],
   "source": [
    "#36 was to modify the new value into the specific posistion of the given list?\n",
    "\n",
    "l=[10,20,30,40,50,60]\n",
    "l[1]=10+5j\n",
    "print(l)\n"
   ]
  },
  {
   "cell_type": "code",
   "execution_count": null,
   "metadata": {},
   "outputs": [
    {
     "name": "stdout",
     "output_type": "stream",
     "text": [
      "[{10: 20}, 12.02, (10+5j), b'1010', True]\n"
     ]
    }
   ],
   "source": [
    "#37 was to modify the new value into the starting of the given list\n",
    "\n",
    "l=[10,12.02,10+5j,b'1010',True]\n",
    "l[0]={10:20}\n",
    "print(l)\n",
    "\n"
   ]
  },
  {
   "cell_type": "code",
   "execution_count": null,
   "metadata": {},
   "outputs": [
    {
     "name": "stdout",
     "output_type": "stream",
     "text": [
      "[10, 10.12, (10+6j), b'1010', True]\n"
     ]
    }
   ],
   "source": [
    "#38  was to modify the new value into the ending of the given list\n",
    "\n",
    "l=[10,10.12,10+6j,b'1010',False]\n",
    "l[4]=True\n",
    "print(l)"
   ]
  },
  {
   "cell_type": "code",
   "execution_count": null,
   "metadata": {},
   "outputs": [
    {
     "name": "stdout",
     "output_type": "stream",
     "text": [
      "[20, 90.08, (10+8j), b'1010', True, 'vamsi', (900, 10000, 10099)]\n"
     ]
    }
   ],
   "source": [
    "#39 was to modify the new value in the middile of the given list\n",
    "\n",
    "l=[20,90.08,10+8j,b'1010',True,[100,200,300],(900,10000,10099)]\n",
    "l[5]=\"vamsi\"\n",
    "print(l)"
   ]
  },
  {
   "cell_type": "code",
   "execution_count": null,
   "metadata": {},
   "outputs": [
    {
     "name": "stdout",
     "output_type": "stream",
     "text": [
      "['i', ' ', 'l', 'o', 'v', 'e', ' ', 'p', 'y', 't', 'h', 'o', 'n', True, [100, 200, 300], (200, 300, 400)]\n"
     ]
    }
   ],
   "source": [
    "#40 was to modify the first 4 posistion values into a given list\n",
    "\n",
    "l=[10,20.08,10+5j,b'1010',True,[100,200,300],(200,300,400)]\n",
    "l[0:4]=\"i love python\"\n",
    "print(l)"
   ]
  },
  {
   "cell_type": "code",
   "execution_count": null,
   "metadata": {},
   "outputs": [
    {
     "name": "stdout",
     "output_type": "stream",
     "text": [
      "[111, 200, 222, (10+5j), 333, True, 444, (900, 10000, 1000)]\n"
     ]
    }
   ],
   "source": [
    "#41 was to modify the sequence of values into a given list\n",
    "\n",
    "l=[10,200,30.07,10+5j,b'1010',True,[100,200,300],(900,10000,1000)]\n",
    "l[0::2]=[111,222,333,444]\n",
    "print(l)\n"
   ]
  },
  {
   "cell_type": "code",
   "execution_count": null,
   "metadata": {},
   "outputs": [
    {
     "name": "stdout",
     "output_type": "stream",
     "text": [
      "[100, 200, (10+7j), b'1010', False, [0, 999, 777]]\n"
     ]
    }
   ],
   "source": [
    "#42 was to delete the value in the specific posistion of the given list\n",
    "\n",
    "l=[100,200,30.08,10+7j,b'1010',False,[000,999,777]]\n",
    "del l[2]\n",
    "print(l)\n"
   ]
  },
  {
   "cell_type": "code",
   "execution_count": null,
   "metadata": {},
   "outputs": [
    {
     "name": "stdout",
     "output_type": "stream",
     "text": [
      "[10, 10.02, (10+2j), b'1010', True]\n"
     ]
    }
   ],
   "source": [
    "#43 was to delete the new value into the ending of the list\n",
    "\n",
    "l=[10,10.02,10+2j,b'1010',True,[100,200,300]]\n",
    "del l[5]\n",
    "print(l)"
   ]
  },
  {
   "cell_type": "code",
   "execution_count": null,
   "metadata": {},
   "outputs": [
    {
     "name": "stdout",
     "output_type": "stream",
     "text": [
      "{80, 50, 20, 90, 40, 'a', 10, 'b'}\n"
     ]
    }
   ],
   "source": [
    "#44 was concate the new value into the set\n",
    "s={10,20,50,40,80,90}\n",
    "s|={'a','b'}\n",
    "print(s)"
   ]
  },
  {
   "cell_type": "code",
   "execution_count": null,
   "metadata": {},
   "outputs": [
    {
     "name": "stdout",
     "output_type": "stream",
     "text": [
      "[10, 200, 300, 'varun']\n"
     ]
    }
   ],
   "source": [
    "#45 was to delete the specific value into the set\n",
    "\n",
    "l=[10,200,300,\"vamsi\",\"varun\"]\n",
    "del l[3]\n",
    "print(l)"
   ]
  },
  {
   "cell_type": "code",
   "execution_count": null,
   "metadata": {},
   "outputs": [
    {
     "name": "stdout",
     "output_type": "stream",
     "text": [
      "[100, 200, 7000, 400, 500]\n"
     ]
    }
   ],
   "source": [
    "#46 was concate the new value at middile\n",
    "\n",
    "l=[100,200,300,400,500]\n",
    "l[-3]=7000\n",
    "print(l)"
   ]
  },
  {
   "cell_type": "code",
   "execution_count": null,
   "metadata": {},
   "outputs": [
    {
     "name": "stdout",
     "output_type": "stream",
     "text": [
      "{10: 20, 20: 30, 40: 50, 100: 200}\n"
     ]
    }
   ],
   "source": [
    "# 47 concate new key and value into dict\n",
    "d={10:20,20:30,40:50}\n",
    "d|={100:200}\n",
    "print(d)"
   ]
  },
  {
   "cell_type": "code",
   "execution_count": null,
   "metadata": {},
   "outputs": [
    {
     "name": "stdout",
     "output_type": "stream",
     "text": [
      "{30: 40, 50: 60, 70: 50}\n"
     ]
    }
   ],
   "source": [
    "# 48 Was to delete the specific key and value in the given dict\n",
    "\n",
    "d={10:20,30:40,50:60,70:50}\n",
    "del d[10]\n",
    "print(d)"
   ]
  },
  {
   "cell_type": "code",
   "execution_count": null,
   "metadata": {},
   "outputs": [
    {
     "name": "stdout",
     "output_type": "stream",
     "text": [
      "{'a': 100, 'b': 200, 'c': 300, 'd': 'vamsi', 'e': 'varun'}\n"
     ]
    }
   ],
   "source": [
    "# 49 was to modify the specific value in the given dict\n",
    "\n",
    "d={'a':100,'b':200,'c':300}\n",
    "d|={'d':'vamsi','e':'varun'}\n",
    "print(d)"
   ]
  },
  {
   "cell_type": "code",
   "execution_count": null,
   "metadata": {},
   "outputs": [
    {
     "name": "stdout",
     "output_type": "stream",
     "text": [
      "[10, 20, 30, 40, 50, 60]\n"
     ]
    }
   ],
   "source": [
    "#50 concate list & tuple with the help of typecasting\n",
    "\n",
    "l1=[10,20,30]\n",
    "l2=[40,50,60]\n",
    "s=l1+l2\n",
    "print(s)\n",
    "\n",
    "#@list convert list only(not tuple)\n",
    "#@tuple convert tuple only(not list)\n",
    "\n"
   ]
  },
  {
   "cell_type": "code",
   "execution_count": null,
   "metadata": {},
   "outputs": [
    {
     "name": "stdout",
     "output_type": "stream",
     "text": [
      "979.5\n",
      "195.9\n",
      "783.6\n"
     ]
    }
   ],
   "source": [
    "#51 one pizza cost 326.50.order=3.discount=20%\n",
    "\n",
    "pizza_cost=326.50\n",
    "order=3\n",
    "Total_cost=pizza_cost*order\n",
    "discount=Total_cost*(0.20)\n",
    "actual_cost=Total_cost-discount\n",
    "print(Total_cost)\n",
    "print(discount)\n",
    "print(actual_cost)\n"
   ]
  },
  {
   "cell_type": "code",
   "execution_count": null,
   "metadata": {},
   "outputs": [
    {
     "name": "stdout",
     "output_type": "stream",
     "text": [
      "29999.08\n"
     ]
    }
   ],
   "source": [
    "#52 monthly sal 30,000.pf reduce 12%.tax 8%.Total salary?\n",
    "\n",
    "one_month_salary=30000\n",
    "pf_reduce_salary=0.12\n",
    "tax=0.8\n",
    "pf_reduce_salary*0.12\n",
    "tax*0.8\n",
    "Total_month_sal=one_month_salary-(pf_reduce_salary+tax)\n",
    "print(Total_month_sal)\n"
   ]
  },
  {
   "cell_type": "code",
   "execution_count": null,
   "metadata": {},
   "outputs": [
    {
     "name": "stdout",
     "output_type": "stream",
     "text": [
      "['a', 'b', 'c', 10, 20, 30, 100, 200, 300, 400, 500]\n"
     ]
    }
   ],
   "source": [
    "# 53 was to concate the list value and tuple value without using type casting?\n",
    "\n",
    "l1=['a','b','c',10,20,30]\n",
    "l2=(100,200,300,400,500)\n",
    "l1+=l2\n",
    "print(l1)"
   ]
  },
  {
   "cell_type": "code",
   "execution_count": null,
   "metadata": {},
   "outputs": [
    {
     "name": "stdout",
     "output_type": "stream",
     "text": [
      "0\n",
      "False\n"
     ]
    }
   ],
   "source": [
    "# 54 wae to check the given number divisible by 3\n",
    "n=9\n",
    "res=n%3\n",
    "res\n",
    "print(res)\n",
    "res==0\n",
    "\n",
    "n=16\n",
    "print(n%3==0)\n",
    "\n"
   ]
  },
  {
   "cell_type": "code",
   "execution_count": null,
   "metadata": {},
   "outputs": [
    {
     "name": "stdout",
     "output_type": "stream",
     "text": [
      "16\n"
     ]
    }
   ],
   "source": [
    "# 55 was check number is divisible by 2 & 6\n",
    "\n",
    "n%2==0 and n%6==0\n",
    "print(n)"
   ]
  },
  {
   "cell_type": "code",
   "execution_count": null,
   "metadata": {},
   "outputs": [
    {
     "data": {
      "text/plain": [
       "True"
      ]
     },
     "execution_count": 14,
     "metadata": {},
     "output_type": "execute_result"
    }
   ],
   "source": [
    "# 56 check last digit is divisible by 3\n",
    "\n",
    "n=1996\n",
    "((n%10)%3)==0\n"
   ]
  },
  {
   "cell_type": "code",
   "execution_count": null,
   "metadata": {},
   "outputs": [
    {
     "data": {
      "text/plain": [
       "False"
      ]
     },
     "execution_count": 15,
     "metadata": {},
     "output_type": "execute_result"
    }
   ],
   "source": [
    "# 57 check last digit divisible by 3 with type casting\n",
    "\n",
    "n=2024\n",
    "(int(str(n)[-1]))%3==0"
   ]
  },
  {
   "cell_type": "code",
   "execution_count": null,
   "metadata": {},
   "outputs": [
    {
     "name": "stdout",
     "output_type": "stream",
     "text": [
      "e\n",
      "65\n",
      "a\n"
     ]
    },
    {
     "ename": "TypeError",
     "evalue": "not all arguments converted during string formatting",
     "output_type": "error",
     "traceback": [
      "\u001b[1;31m---------------------------------------------------------------------------\u001b[0m",
      "\u001b[1;31mTypeError\u001b[0m                                 Traceback (most recent call last)",
      "Cell \u001b[1;32mIn[27], line 12\u001b[0m\n\u001b[0;32m      9\u001b[0m \u001b[39mord\u001b[39m (s[\u001b[39m-\u001b[39m\u001b[39m1\u001b[39m])\n\u001b[0;32m     11\u001b[0m s\u001b[39m=\u001b[39m\u001b[39m'\u001b[39m\u001b[39mapple\u001b[39m\u001b[39m'\u001b[39m\n\u001b[1;32m---> 12\u001b[0m \u001b[39mprint\u001b[39m(\u001b[39mord\u001b[39m(s[\u001b[39m-\u001b[39;49m\u001b[39m1\u001b[39;49m]\u001b[39m%\u001b[39;49m\u001b[39m5\u001b[39;49m\u001b[39m==\u001b[39m\u001b[39m0\u001b[39m))\n",
      "\u001b[1;31mTypeError\u001b[0m: not all arguments converted during string formatting"
     ]
    }
   ],
   "source": [
    "# 58 wae to check the given string last char ascii value should be divisible by 5  or not\n",
    "s='Apple'\n",
    "s[-1]\n",
    "print(s[-1])\n",
    "ord('A')\n",
    "print(ord('A'))\n",
    "ord('a')\n",
    "print('a')\n",
    "ord (s[-1])\n",
    "\n",
    "s='apple'    \n",
    "print(ord(s[-1]%5==0))\n"
   ]
  },
  {
   "cell_type": "code",
   "execution_count": null,
   "metadata": {},
   "outputs": [
    {
     "name": "stdout",
     "output_type": "stream",
     "text": [
      "False\n"
     ]
    }
   ],
   "source": [
    "#59 wae to check the given number is present b/w 60 to 130 and the number should be divisible by 3 and 4 and the last digit  should be lssthan 9\n",
    "n=129\n",
    "print(60<=n<=130 and n%3==0 and n%4==0 and n%10>9)"
   ]
  },
  {
   "cell_type": "code",
   "execution_count": null,
   "metadata": {},
   "outputs": [
    {
     "name": "stdout",
     "output_type": "stream",
     "text": [
      "True\n"
     ]
    }
   ],
   "source": [
    "#60wae to check the given number is even or lessthan 25\n",
    "n=24\n",
    "print(n%2==0 or n<25)"
   ]
  },
  {
   "cell_type": "code",
   "execution_count": null,
   "metadata": {},
   "outputs": [
    {
     "name": "stdout",
     "output_type": "stream",
     "text": [
      "A\n",
      "a\n",
      "0\n",
      ";\n"
     ]
    }
   ],
   "source": [
    "#61 wae to check find out the ascii character in a given number\n",
    "\n",
    "n1=65\n",
    "chr(n1)\n",
    "print(chr(n1))\n",
    "\n",
    "n2=97\n",
    "chr(n2)\n",
    "print(chr(n2))\n",
    "\n",
    "n3=48\n",
    "chr(n3)\n",
    "print(chr(n3))\n",
    "\n",
    "n4=59\n",
    "chr(n4)\n",
    "print(chr(n4))\n"
   ]
  },
  {
   "cell_type": "code",
   "execution_count": null,
   "metadata": {},
   "outputs": [
    {
     "name": "stdout",
     "output_type": "stream",
     "text": [
      "59\n"
     ]
    }
   ],
   "source": [
    "# 62 wae to check find out the ascii value in a given character\n",
    "\n",
    "ch=';'\n",
    "ord(ch)\n",
    "print(ord(ch))"
   ]
  },
  {
   "cell_type": "code",
   "execution_count": null,
   "metadata": {},
   "outputs": [
    {
     "data": {
      "text/plain": [
       "True"
      ]
     },
     "execution_count": 37,
     "metadata": {},
     "output_type": "execute_result"
    }
   ],
   "source": [
    "# 63 wae to check the given character is uppercase or not\n",
    "\n",
    "ch='G'\n",
    "'A'<=ch and ch<='z'"
   ]
  },
  {
   "cell_type": "code",
   "execution_count": null,
   "metadata": {},
   "outputs": [
    {
     "data": {
      "text/plain": [
       "True"
      ]
     },
     "execution_count": 38,
     "metadata": {},
     "output_type": "execute_result"
    }
   ],
   "source": [
    "# 64 wae to check the given character is lowercase or not?\n",
    "\n",
    "ch='a'\n",
    "'a'<=ch<='z'"
   ]
  },
  {
   "cell_type": "code",
   "execution_count": null,
   "metadata": {},
   "outputs": [
    {
     "data": {
      "text/plain": [
       "True"
      ]
     },
     "execution_count": 41,
     "metadata": {},
     "output_type": "execute_result"
    }
   ],
   "source": [
    "# 65 wae to check the given character is the alphabet?\n",
    "\n",
    "ch1='s'\n",
    "'A'<=ch1<='z' or 'a'<=ch1<='z'\n",
    "ch2='s'\n",
    "'A'<=ch2<='z' or 'a'<=ch2<='z'"
   ]
  },
  {
   "cell_type": "code",
   "execution_count": null,
   "metadata": {},
   "outputs": [
    {
     "name": "stdout",
     "output_type": "stream",
     "text": [
      "True\n"
     ]
    }
   ],
   "source": [
    "# 66 wae to check given character in the ascii number\n",
    "\n",
    "ch='5'\n",
    "'0'<=ch<='9'\n",
    "\n",
    "ch1=(len(ch)==1 and '0'<=ch<='9')\n",
    "print(ch1)\n"
   ]
  },
  {
   "cell_type": "code",
   "execution_count": null,
   "metadata": {},
   "outputs": [
    {
     "data": {
      "text/plain": [
       "True"
      ]
     },
     "execution_count": 46,
     "metadata": {},
     "output_type": "execute_result"
    }
   ],
   "source": [
    "# 67 wae to check the given character is th special character\n",
    "\n",
    "ch='@'\n",
    "0<=ord(ch)<=47 or 58<=ord(ch)<=64 or 91<=ord(ch)<=96"
   ]
  },
  {
   "cell_type": "code",
   "execution_count": null,
   "metadata": {},
   "outputs": [
    {
     "data": {
      "text/plain": [
       "True"
      ]
     },
     "execution_count": 47,
     "metadata": {},
     "output_type": "execute_result"
    }
   ],
   "source": [
    "# 68 wae to check the given character is a vowel\n",
    "ch='A'\n",
    "ch=='A' or ch=='E' or ch=='I' or ch=='O' or ch=='U'"
   ]
  },
  {
   "cell_type": "code",
   "execution_count": null,
   "metadata": {},
   "outputs": [
    {
     "data": {
      "text/plain": [
       "'a'"
      ]
     },
     "execution_count": 48,
     "metadata": {},
     "output_type": "execute_result"
    }
   ],
   "source": [
    "# 69 was to convert uppercase to lowercasev in a given character\n",
    "ch='A'\n",
    "chr(ord(ch)+32)"
   ]
  },
  {
   "cell_type": "code",
   "execution_count": null,
   "metadata": {},
   "outputs": [
    {
     "data": {
      "text/plain": [
       "'A'"
      ]
     },
     "execution_count": 49,
     "metadata": {},
     "output_type": "execute_result"
    }
   ],
   "source": [
    "#70 was to convert lowercase to upper casre in a give character\n",
    "\n",
    "ch='b'\n",
    "chr(ord(ch)-33)"
   ]
  },
  {
   "cell_type": "code",
   "execution_count": null,
   "metadata": {},
   "outputs": [
    {
     "data": {
      "text/plain": [
       "'A'"
      ]
     },
     "execution_count": 50,
     "metadata": {},
     "output_type": "execute_result"
    }
   ],
   "source": [
    "# 71 was to extract the previous character in the given characetr\n",
    "\n",
    "ch='B'\n",
    "chr(ord(ch)-1)"
   ]
  },
  {
   "cell_type": "code",
   "execution_count": null,
   "metadata": {},
   "outputs": [
    {
     "data": {
      "text/plain": [
       "'c'"
      ]
     },
     "execution_count": 51,
     "metadata": {},
     "output_type": "execute_result"
    }
   ],
   "source": [
    "# 72 was to extarct the next character in the given character\n",
    "\n",
    "ch='b'\n",
    "chr(ord(ch)+1)"
   ]
  },
  {
   "cell_type": "code",
   "execution_count": null,
   "metadata": {},
   "outputs": [
    {
     "data": {
      "text/plain": [
       "True"
      ]
     },
     "execution_count": 52,
     "metadata": {},
     "output_type": "execute_result"
    }
   ],
   "source": [
    "# 73 was to check the given character is converted to ascii value and the value is even as well as the character should be lowecase\n",
    "ch='d'\n",
    "len(ch)==1 and ord(ch)%2==0 and 'a'<=ch<'x'"
   ]
  },
  {
   "cell_type": "code",
   "execution_count": null,
   "metadata": {},
   "outputs": [
    {
     "data": {
      "text/plain": [
       "False"
      ]
     },
     "execution_count": 54,
     "metadata": {},
     "output_type": "execute_result"
    }
   ],
   "source": [
    "# 74 was to check the given character is converted to ascii value and the value is even as well as the character should be upper case\n",
    "\n",
    "ch='B'\n",
    "len(ch)==1 and ord(ch)%2==1 and 'A'<ch<='z'"
   ]
  },
  {
   "cell_type": "code",
   "execution_count": null,
   "metadata": {},
   "outputs": [
    {
     "data": {
      "text/plain": [
       "True"
      ]
     },
     "execution_count": 62,
     "metadata": {},
     "output_type": "execute_result"
    }
   ],
   "source": [
    "# 75 wae to check the given number is convrted to character is symbol or not\n",
    "\n",
    "n1=58\n",
    "'A'<=chr(n1)<='z' or 'a'<=chr(n1)<='z' or '0'<=chr(n1)<='9'\n",
    "True\n",
    "\n",
    "\n",
    "n2=57\n",
    "'A'<=chr(n2)<='z' or 'a'<=chr(n2)<='z' or '0'<=chr(n2)<='9'\n"
   ]
  },
  {
   "cell_type": "code",
   "execution_count": null,
   "metadata": {},
   "outputs": [
    {
     "data": {
      "text/plain": [
       "True"
      ]
     },
     "execution_count": 67,
     "metadata": {},
     "output_type": "execute_result"
    }
   ],
   "source": [
    "#76 to check the given number of the acsii character is a vowel or not\n",
    "n=65\n",
    "chr(n) in 'aeiouAEIOU'\n"
   ]
  },
  {
   "cell_type": "code",
   "execution_count": null,
   "metadata": {},
   "outputs": [
    {
     "data": {
      "text/plain": [
       "True"
      ]
     },
     "execution_count": 70,
     "metadata": {},
     "output_type": "execute_result"
    }
   ],
   "source": [
    "# 77 to check the first and second character are sequence or not in agiven string\n",
    "\n",
    "s=\"ABCD\"\n",
    "ord(s[0])+1==ord(s[1])"
   ]
  },
  {
   "cell_type": "code",
   "execution_count": null,
   "metadata": {},
   "outputs": [
    {
     "data": {
      "text/plain": [
       "True"
      ]
     },
     "execution_count": 71,
     "metadata": {},
     "output_type": "execute_result"
    }
   ],
   "source": [
    "# 78 to check the given character ascii value should be either greaterthan 50 or greaterthan 25 or lessthan 112\n",
    "ch='0'\n",
    "ord(ch)>25 or ord(ch)<112"
   ]
  },
  {
   "cell_type": "code",
   "execution_count": null,
   "metadata": {},
   "outputs": [
    {
     "name": "stdout",
     "output_type": "stream",
     "text": [
      "11\n",
      "10\n"
     ]
    }
   ],
   "source": [
    "# 79 wae to given increased by 1\n",
    "m=10\n",
    "m+=1\n",
    "print(m)\n",
    "m-=1\n",
    "print(m)"
   ]
  },
  {
   "cell_type": "code",
   "execution_count": null,
   "metadata": {},
   "outputs": [
    {
     "data": {
      "text/plain": [
       "110"
      ]
     },
     "execution_count": 78,
     "metadata": {},
     "output_type": "execute_result"
    }
   ],
   "source": [
    "# 80 to perform the addition operation on A value and B value and final result should be updated to 'A'\n",
    "a=50\n",
    "b=60\n",
    "a=a+b\n",
    "a"
   ]
  },
  {
   "cell_type": "code",
   "execution_count": null,
   "metadata": {},
   "outputs": [
    {
     "data": {
      "text/plain": [
       "True"
      ]
     },
     "execution_count": 80,
     "metadata": {},
     "output_type": "execute_result"
    }
   ],
   "source": [
    "# 81 to check the given value is present in the coll\n",
    "\n",
    "st='p'\n",
    "coll=\"pyspiders\"\n",
    "st in coll"
   ]
  },
  {
   "cell_type": "code",
   "execution_count": null,
   "metadata": {},
   "outputs": [
    {
     "data": {
      "text/plain": [
       "True"
      ]
     },
     "execution_count": 81,
     "metadata": {},
     "output_type": "execute_result"
    }
   ],
   "source": [
    "#82 to check the given list present in the given list\n",
    "st=[10,'haii']\n",
    "coll=[10,'haii',{10,20},[10,'haii']]\n",
    "st in coll"
   ]
  },
  {
   "cell_type": "code",
   "execution_count": null,
   "metadata": {},
   "outputs": [
    {
     "data": {
      "text/plain": [
       "True"
      ]
     },
     "execution_count": 82,
     "metadata": {},
     "output_type": "execute_result"
    }
   ],
   "source": [
    "#83 to check the given dict values is present in tuple\n",
    "\n",
    "s='a'\n",
    "coll={'a':100,'b':200,'c':300}\n",
    "s in coll"
   ]
  },
  {
   "cell_type": "code",
   "execution_count": null,
   "metadata": {},
   "outputs": [
    {
     "name": "stdout",
     "output_type": "stream",
     "text": [
      "<class 'int'>\n"
     ]
    }
   ],
   "source": [
    "#84 to check the given value is integer value or not\n",
    "b=15\n",
    "print(type(15))"
   ]
  },
  {
   "cell_type": "code",
   "execution_count": null,
   "metadata": {},
   "outputs": [
    {
     "data": {
      "text/plain": [
       "True"
      ]
     },
     "execution_count": 5,
     "metadata": {},
     "output_type": "execute_result"
    }
   ],
   "source": [
    " #85 to check the given value is string value or not\n",
    "\n",
    "c=b'1010'\n",
    "type(c) in [int,float,complex,bool,bytes,type(None)]"
   ]
  },
  {
   "cell_type": "code",
   "execution_count": null,
   "metadata": {},
   "outputs": [
    {
     "data": {
      "text/plain": [
       "True"
      ]
     },
     "execution_count": 8,
     "metadata": {},
     "output_type": "execute_result"
    }
   ],
   "source": [
    "#86\n",
    "\n",
    "c='pys'\n",
    "type(c) in [str,list,tuple,set,dict]"
   ]
  },
  {
   "cell_type": "code",
   "execution_count": null,
   "metadata": {},
   "outputs": [
    {
     "data": {
      "text/plain": [
       "True"
      ]
     },
     "execution_count": 9,
     "metadata": {},
     "output_type": "execute_result"
    }
   ],
   "source": [
    "#87 to check is a given value is divisible by 6 as words as that value present into the coll or not\n",
    "\n",
    "n=36\n",
    "n%6==0 and n in [10,26,36]"
   ]
  },
  {
   "cell_type": "code",
   "execution_count": null,
   "metadata": {},
   "outputs": [
    {
     "data": {
      "text/plain": [
       "3"
      ]
     },
     "execution_count": 11,
     "metadata": {},
     "output_type": "execute_result"
    }
   ],
   "source": [
    "#88 to perform bitwise and operation given values are 15 and 19\n",
    "\n",
    "m=15\n",
    "n=19\n",
    "m&n"
   ]
  },
  {
   "cell_type": "code",
   "execution_count": null,
   "metadata": {},
   "outputs": [
    {
     "data": {
      "text/plain": [
       "127"
      ]
     },
     "execution_count": 13,
     "metadata": {},
     "output_type": "execute_result"
    }
   ],
   "source": [
    "#89 to perform\n",
    "\n",
    "m=115\n",
    "n=79\n",
    "m|n"
   ]
  },
  {
   "cell_type": "code",
   "execution_count": null,
   "metadata": {},
   "outputs": [
    {
     "data": {
      "text/plain": [
       "46"
      ]
     },
     "execution_count": 14,
     "metadata": {},
     "output_type": "execute_result"
    }
   ],
   "source": [
    "#90 to perform the bitwise xor operation given value are 56 & 22\n",
    "m=56\n",
    "n=22\n",
    "m^n"
   ]
  },
  {
   "cell_type": "code",
   "execution_count": null,
   "metadata": {},
   "outputs": [
    {
     "data": {
      "text/plain": [
       "-16"
      ]
     },
     "execution_count": 15,
     "metadata": {},
     "output_type": "execute_result"
    }
   ],
   "source": [
    "#91 to perform the bitwise not operator given value 15\n",
    "n=15\n",
    "~n"
   ]
  },
  {
   "cell_type": "code",
   "execution_count": null,
   "metadata": {},
   "outputs": [
    {
     "data": {
      "text/plain": [
       "256"
      ]
     },
     "execution_count": 16,
     "metadata": {},
     "output_type": "execute_result"
    }
   ],
   "source": [
    "#92 to perform the bitwise left shift operation given value is 32 and 3\n",
    "\n",
    "m=32\n",
    "n=3\n",
    "m<<n"
   ]
  },
  {
   "cell_type": "code",
   "execution_count": null,
   "metadata": {},
   "outputs": [
    {
     "data": {
      "text/plain": [
       "6"
      ]
     },
     "execution_count": 17,
     "metadata": {},
     "output_type": "execute_result"
    }
   ],
   "source": [
    "#93 to perform the bitwise right shift operation given value 25 and 2\n",
    "m=25\n",
    "n=2\n",
    "m>>n"
   ]
  },
  {
   "cell_type": "code",
   "execution_count": null,
   "metadata": {},
   "outputs": [
    {
     "data": {
      "text/plain": [
       "1000"
      ]
     },
     "execution_count": 18,
     "metadata": {},
     "output_type": "execute_result"
    }
   ],
   "source": [
    "#94 to findout the output of a given condition\n",
    "\n",
    "(10+26*60 and 10**3) or ({10,20}or not {[15-16]})"
   ]
  },
  {
   "cell_type": "code",
   "execution_count": null,
   "metadata": {},
   "outputs": [
    {
     "data": {
      "text/plain": [
       "True"
      ]
     },
     "execution_count": 21,
     "metadata": {},
     "output_type": "execute_result"
    }
   ],
   "source": [
    "#95 to check if agiven value is presesnt in a dict or not\n",
    "\n",
    "d={'a':10,'haii':'bye',(100,):(10,20)}\n",
    "k='a'\n",
    "k in d\n"
   ]
  },
  {
   "cell_type": "code",
   "execution_count": null,
   "metadata": {},
   "outputs": [
    {
     "data": {
      "text/plain": [
       "False"
      ]
     },
     "execution_count": 1,
     "metadata": {},
     "output_type": "execute_result"
    }
   ],
   "source": [
    "#96 \n",
    "d={'a':100,'hii':'bye','varun':'vamsi'}\n",
    "k=100\n",
    "k in d"
   ]
  },
  {
   "cell_type": "code",
   "execution_count": null,
   "metadata": {},
   "outputs": [
    {
     "data": {
      "text/plain": [
       "False"
      ]
     },
     "execution_count": 25,
     "metadata": {},
     "output_type": "execute_result"
    }
   ],
   "source": [
    "#97 .items\n",
    "k={'a':10}\n",
    "k in d.items()"
   ]
  },
  {
   "cell_type": "code",
   "execution_count": null,
   "metadata": {},
   "outputs": [
    {
     "data": {
      "text/plain": [
       "True"
      ]
     },
     "execution_count": 26,
     "metadata": {},
     "output_type": "execute_result"
    }
   ],
   "source": [
    "#98 to check if two value pointing to the same address or not\n",
    "\n",
    "a=15\n",
    "b=15\n",
    "a is b"
   ]
  },
  {
   "cell_type": "code",
   "execution_count": null,
   "metadata": {},
   "outputs": [
    {
     "data": {
      "text/plain": [
       "False"
      ]
     },
     "execution_count": 27,
     "metadata": {},
     "output_type": "execute_result"
    }
   ],
   "source": [
    "#99\n",
    "\n",
    "a=20\n",
    "b=40\n",
    "a is b"
   ]
  },
  {
   "cell_type": "code",
   "execution_count": null,
   "metadata": {},
   "outputs": [
    {
     "data": {
      "text/plain": [
       "int"
      ]
     },
     "execution_count": 28,
     "metadata": {},
     "output_type": "execute_result"
    }
   ],
   "source": [
    "#100 typecasting\n",
    "a=256\n",
    "b=256\n",
    "type(a)==int and type(b)\n"
   ]
  },
  {
   "cell_type": "code",
   "execution_count": null,
   "metadata": {},
   "outputs": [
    {
     "name": "stdout",
     "output_type": "stream",
     "text": [
      "pspiders\n"
     ]
    }
   ],
   "source": [
    "#@ written test (5/8/23)\n",
    "#101\n",
    "\n",
    "#was to replace the old character into a new character of the given string?\n",
    "\n",
    "a=\"qspiders\"\n",
    "a1=a[:0]+'p'+a[1:]\n",
    "print(a1)"
   ]
  },
  {
   "cell_type": "code",
   "execution_count": null,
   "metadata": {},
   "outputs": [
    {
     "name": "stdout",
     "output_type": "stream",
     "text": [
      "vamsivarun\n",
      "varunvamsi\n"
     ]
    },
    {
     "ename": "TypeError",
     "evalue": "'str' object does not support item assignment",
     "output_type": "error",
     "traceback": [
      "\u001b[1;31m---------------------------------------------------------------------------\u001b[0m",
      "\u001b[1;31mTypeError\u001b[0m                                 Traceback (most recent call last)",
      "Cell \u001b[1;32mIn[23], line 12\u001b[0m\n\u001b[0;32m      9\u001b[0m \u001b[39mprint\u001b[39m(a2)\n\u001b[0;32m     11\u001b[0m a3\u001b[39m=\u001b[39m\u001b[39m\"\u001b[39m\u001b[39mvamsi\u001b[39m\u001b[39m\"\u001b[39m\n\u001b[1;32m---> 12\u001b[0m a3[\u001b[39m0\u001b[39;49m]\u001b[39m+\u001b[39m\u001b[39m=\u001b[39m\u001b[39m'\u001b[39m\u001b[39mp\u001b[39m\u001b[39m'\u001b[39m\n\u001b[0;32m     13\u001b[0m \u001b[39mprint\u001b[39m(a3)\n",
      "\u001b[1;31mTypeError\u001b[0m: 'str' object does not support item assignment"
     ]
    }
   ],
   "source": [
    "#102 was to concate the new string into the specific posistion of the given string?\n",
    "\n",
    "a1=\"vamsi\"\n",
    "a1+=\"varun\"\n",
    "print(a1)\n",
    "\n",
    "a2=\"varun\"\n",
    "a2+=\"vamsi\"\n",
    "print(a2)\n",
    "\n",
    "a3=\"vamsi\"\n",
    "a3[0]+='p'    #string object does not support item assignment\n",
    "print(a3)"
   ]
  },
  {
   "cell_type": "code",
   "execution_count": null,
   "metadata": {},
   "outputs": [
    {
     "ename": "TypeError",
     "evalue": "can only concatenate str (not \"int\") to str",
     "output_type": "error",
     "traceback": [
      "\u001b[1;31m---------------------------------------------------------------------------\u001b[0m",
      "\u001b[1;31mTypeError\u001b[0m                                 Traceback (most recent call last)",
      "Cell \u001b[1;32mIn[24], line 4\u001b[0m\n\u001b[0;32m      1\u001b[0m \u001b[39m#103 \u001b[39;00m\n\u001b[0;32m      3\u001b[0m a\u001b[39m=\u001b[39m\u001b[39m\"\u001b[39m\u001b[39mQspiders\u001b[39m\u001b[39m\"\u001b[39m\n\u001b[1;32m----> 4\u001b[0m a[:\u001b[39m4\u001b[39;49m]\u001b[39m+\u001b[39;49m\u001b[39m1232456\u001b[39;49m\u001b[39m+\u001b[39ma[\u001b[39m4\u001b[39m:]\n\u001b[0;32m      5\u001b[0m \u001b[39mprint\u001b[39m(a)\n",
      "\u001b[1;31mTypeError\u001b[0m: can only concatenate str (not \"int\") to str"
     ]
    }
   ],
   "source": [
    "#103 \n",
    "\n",
    "a=\"Qspiders\"\n",
    "a[:4]+1232456+a[4:]\n",
    "print(a)"
   ]
  },
  {
   "cell_type": "code",
   "execution_count": null,
   "metadata": {},
   "outputs": [
    {
     "ename": "TypeError",
     "evalue": "'tuple' object does not support item deletion",
     "output_type": "error",
     "traceback": [
      "\u001b[1;31m---------------------------------------------------------------------------\u001b[0m",
      "\u001b[1;31mTypeError\u001b[0m                                 Traceback (most recent call last)",
      "Cell \u001b[1;32mIn[33], line 4\u001b[0m\n\u001b[0;32m      1\u001b[0m \u001b[39m#104 was to delete the sequence of values into the specific posistion of the given tuple\u001b[39;00m\n\u001b[0;32m      3\u001b[0m a\u001b[39m=\u001b[39m(\u001b[39m10\u001b[39m,\u001b[39m20\u001b[39m,\u001b[39m\"\u001b[39m\u001b[39mvamsi\u001b[39m\u001b[39m\"\u001b[39m,\u001b[39m\"\u001b[39m\u001b[39mvarun\u001b[39m\u001b[39m\"\u001b[39m,[\u001b[39m100\u001b[39m,\u001b[39m200\u001b[39m])\n\u001b[1;32m----> 4\u001b[0m \u001b[39mdel\u001b[39;00m a[:\u001b[39m4\u001b[39;49m]\n",
      "\u001b[1;31mTypeError\u001b[0m: 'tuple' object does not support item deletion"
     ]
    }
   ],
   "source": [
    "#104 was to delete the sequence of values into the specific posistion of the given tuple\n",
    "\n",
    "a=(10,20,\"vamsi\",\"varun\",[100,200])    #**** Note:tuple object does not support item assignment\n",
    "del a[:4]"
   ]
  },
  {
   "cell_type": "code",
   "execution_count": null,
   "metadata": {},
   "outputs": [
    {
     "name": "stdout",
     "output_type": "stream",
     "text": [
      "['varun', 'vamsi', (111, 222, 333, 444, 555)]\n"
     ]
    }
   ],
   "source": [
    "#105 was modify the sequence of values from the given list\n",
    "\n",
    "l=[10,200,30,60,\"vamsi\",(111,222,333,444,555)]\n",
    "l[0:4]=[\"varun\"]\n",
    "print(l)"
   ]
  },
  {
   "cell_type": "code",
   "execution_count": null,
   "metadata": {},
   "outputs": [
    {
     "name": "stdout",
     "output_type": "stream",
     "text": [
      "{'a': 200000, 'b': 200, 'c': 300, 'd': 400}\n"
     ]
    }
   ],
   "source": [
    "#106 was to modify the multiple keys-value pairs in the given dict\n",
    "\n",
    "d={'a':100,'b':200,'c':300,'d':400}\n",
    "d['a']=200000\n",
    "print(d)"
   ]
  },
  {
   "cell_type": "code",
   "execution_count": null,
   "metadata": {},
   "outputs": [
    {
     "name": "stdout",
     "output_type": "stream",
     "text": [
      "4\n",
      "2\n",
      "False\n"
     ]
    }
   ],
   "source": [
    "#107 was to extract the last digit and second digit from given integer number.\n",
    "#and sum of extracted digits should be odd.(without typecasting).\n",
    "a=1234\n",
    "b=a%10\n",
    "c=a//100\n",
    "d=c%10\n",
    "e=b+c\n",
    "f=e%2==1\n",
    "print(b)\n",
    "print(d)\n",
    "print(f)"
   ]
  },
  {
   "cell_type": "code",
   "execution_count": null,
   "metadata": {},
   "outputs": [
    {
     "data": {
      "text/plain": [
       "False"
      ]
     },
     "execution_count": 29,
     "metadata": {},
     "output_type": "execute_result"
    }
   ],
   "source": [
    "#108 was to eliminate the last two digits fromn given integer number \n",
    "#and remaining value is greater than 15 and lessthan 89.(without type casting).\n",
    "a=123456\n",
    "b=a%100\n",
    "a>15 and a<89\n",
    "\n"
   ]
  },
  {
   "cell_type": "code",
   "execution_count": null,
   "metadata": {},
   "outputs": [
    {
     "data": {
      "text/plain": [
       "'a'"
      ]
     },
     "execution_count": 27,
     "metadata": {},
     "output_type": "execute_result"
    }
   ],
   "source": [
    "#109 was to convert uppercase to lowercase\n",
    "\n",
    "ch='A'\n",
    "chr(ord(ch)+32)\n"
   ]
  },
  {
   "cell_type": "code",
   "execution_count": null,
   "metadata": {},
   "outputs": [
    {
     "data": {
      "text/plain": [
       "True"
      ]
     },
     "execution_count": 61,
     "metadata": {},
     "output_type": "execute_result"
    }
   ],
   "source": [
    "# 110 was to check first character and middile character and last character is sequence or not.\n",
    "\n",
    "ch='AVByC'\n",
    "ord(ch[0])+2 <= ord(ch[2])+1 <= ord(ch[4])\n",
    "#print(s)"
   ]
  },
  {
   "cell_type": "code",
   "execution_count": null,
   "metadata": {},
   "outputs": [
    {
     "name": "stdout",
     "output_type": "stream",
     "text": [
      "[10, 50, 60, 80]\n",
      "[10, 10, 50, 60, 80]\n"
     ]
    }
   ],
   "source": [
    "#111 find out the output\n",
    "\n",
    "import copy\n",
    "l=[10,50,60,80]\n",
    "u=copy.deepcopy(l)\n",
    "u[1:3]=[10,50,60]\n",
    "print(l)\n",
    "print(u)"
   ]
  },
  {
   "cell_type": "code",
   "execution_count": null,
   "metadata": {},
   "outputs": [
    {
     "ename": "TypeError",
     "evalue": "can only concatenate tuple (not \"int\") to tuple",
     "output_type": "error",
     "traceback": [
      "\u001b[1;31m---------------------------------------------------------------------------\u001b[0m",
      "\u001b[1;31mTypeError\u001b[0m                                 Traceback (most recent call last)",
      "Cell \u001b[1;32mIn[65], line 7\u001b[0m\n\u001b[0;32m      5\u001b[0m X[\u001b[39m2\u001b[39m][(\u001b[39m10\u001b[39m,)]\u001b[39m|\u001b[39m\u001b[39m=\u001b[39m{\u001b[39m60\u001b[39m,\u001b[39m70\u001b[39m}\n\u001b[0;32m      6\u001b[0m Y[\u001b[39m-\u001b[39m\u001b[39m1\u001b[39m]\u001b[39m+\u001b[39m\u001b[39m=\u001b[39m[\u001b[39m'\u001b[39m\u001b[39ma\u001b[39m\u001b[39m'\u001b[39m,\u001b[39m'\u001b[39m\u001b[39mb\u001b[39m\u001b[39m'\u001b[39m]\n\u001b[1;32m----> 7\u001b[0m Y[\u001b[39m-\u001b[39;49m\u001b[39m2\u001b[39;49m]\u001b[39m+\u001b[39;49m\u001b[39m=\u001b[39;49m(\u001b[39m18\u001b[39;49m)\n\u001b[0;32m      8\u001b[0m \u001b[39mprint\u001b[39m(X)\n",
      "\u001b[1;31mTypeError\u001b[0m: can only concatenate tuple (not \"int\") to tuple"
     ]
    }
   ],
   "source": [
    "#112 find out the output \n",
    "\n",
    "X=[115,\"PYS\",{'A':14,(10,):{10,15}},(15,625),[15.06,80]]\n",
    "Y=X.copy()\n",
    "X[2][(10,)]|={60,70}\n",
    "Y[-1]+=['a','b']\n",
    "Y[-2]+=(18)\n",
    "print(X)"
   ]
  },
  {
   "cell_type": "code",
   "execution_count": null,
   "metadata": {},
   "outputs": [
    {
     "data": {
      "text/plain": [
       "'str'"
      ]
     },
     "execution_count": 66,
     "metadata": {},
     "output_type": "execute_result"
    }
   ],
   "source": [
    "#113 \n",
    "\n",
    "([5*2,2**2] or ('str'<\"pys\")) and ({10,20} and 'str')"
   ]
  },
  {
   "cell_type": "code",
   "execution_count": null,
   "metadata": {},
   "outputs": [],
   "source": [
    "#114\n"
   ]
  }
 ],
 "metadata": {
  "kernelspec": {
   "display_name": "Python 3",
   "language": "python",
   "name": "python3"
  },
  "language_info": {
   "codemirror_mode": {
    "name": "ipython",
    "version": 3
   },
   "file_extension": ".py",
   "mimetype": "text/x-python",
   "name": "python",
   "nbconvert_exporter": "python",
   "pygments_lexer": "ipython3",
   "version": "3.11.4"
  },
  "orig_nbformat": 4
 },
 "nbformat": 4,
 "nbformat_minor": 2
}
